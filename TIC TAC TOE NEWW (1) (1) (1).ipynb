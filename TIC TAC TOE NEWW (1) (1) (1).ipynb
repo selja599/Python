{
 "cells": [
  {
   "cell_type": "code",
   "execution_count": 1,
   "id": "57f97178-613c-413a-a2e1-c91a8a2a41f6",
   "metadata": {
    "scrolled": true
   },
   "outputs": [
    {
     "name": "stdout",
     "output_type": "stream",
     "text": [
      " | | \n",
      " | | \n",
      " | | \n",
      "----------\n",
      " | | \n",
      " | | \n",
      " |X| \n",
      "----------\n"
     ]
    },
    {
     "name": "stdin",
     "output_type": "stream",
     "text": [
      "Enter the position to insert: 9\n"
     ]
    },
    {
     "name": "stdout",
     "output_type": "stream",
     "text": [
      " | | \n",
      " | | \n",
      " |X|O\n",
      "----------\n",
      " | | \n",
      " | | \n",
      " |X|O\n",
      "----------\n",
      " | |X\n",
      " | | \n",
      " |X|O\n",
      "----------\n"
     ]
    },
    {
     "name": "stdin",
     "output_type": "stream",
     "text": [
      "Enter the position to insert: 2\n"
     ]
    },
    {
     "name": "stdout",
     "output_type": "stream",
     "text": [
      " |O|X\n",
      " | | \n",
      " |X|O\n",
      "----------\n",
      "Human wins\n"
     ]
    }
   ],
   "source": [
    "import random\n",
    "board=[' ']*10\n",
    "computer='X'\n",
    "human='O'\n",
    "\n",
    "def display_board(board):\n",
    "    print(f'{board[1]}|{board[2]}|{board[3]}')\n",
    "    print(f'{board[4]}|{board[5]}|{board[6]}')\n",
    "    print(f'{board[7]}|{board[8]}|{board[9]}')\n",
    "    print('-'*10)\n",
    "    \n",
    "def check_win():\n",
    "    if board[1]==board[2]==board[3] and board[1]!=' ':\n",
    "        return True\n",
    "    elif board[4]==board[5]==board[6] and board[4]!=' ':\n",
    "        return True\n",
    "    elif board[7]==board[8]==board[9] and board[7]!=' ':\n",
    "        return True\n",
    "    elif board[1]==board[4]==board[7] and board[2]!=' ':\n",
    "        return True\n",
    "    elif board[2]==board[5]==board[8] and board[3]!=' ':\n",
    "        return True\n",
    "    elif board[3]==board[6]==board[9] and board[1]!=' ':\n",
    "        return True\n",
    "    elif board[1]==board[5]==board[9] and board[1]!=' ':\n",
    "        return True\n",
    "    elif board[3]==board[5]==board[7] and board[3]!=' ':\n",
    "        return True\n",
    "    else:\n",
    "        return False\n",
    "\n",
    "def check_draw():\n",
    "    if board.count(' ') <2:\n",
    "        return True\n",
    "    else:\n",
    "        return False\n",
    "\n",
    "        \n",
    "def is_available(pos):\n",
    "    return True if board[pos]==' ' else False\n",
    "    \n",
    "def insert(letter,pos):\n",
    "    if is_available(pos):\n",
    "        board[pos]=letter\n",
    "        display_board(board)\n",
    "        if check_win():\n",
    "            if letter=='X':\n",
    "                print('computer wins')\n",
    "            else:\n",
    "                print('Human wins')\n",
    "                exit()\n",
    "        if check_draw():\n",
    "            print('draw')\n",
    "            exit()\n",
    "    else:\n",
    "        if letter=='O':\n",
    "            pos=int(input(\"Not Free! Please re-enter a position\"))\n",
    "        else:\n",
    "            pos=random.randint(1,9)\n",
    "        insert (letter,pos)\n",
    "\n",
    "        \n",
    "            \n",
    "\n",
    "\n",
    "def human_move(letter):\n",
    "    pos = int(input(\"Enter the position to insert:\"))\n",
    "    insert(letter, pos)\n",
    "    \n",
    "def computer_move(letter):\n",
    "    pos = random.randint(1,9)\n",
    "    insert(letter,pos)\n",
    "    \n",
    "\n",
    "#main game loop    \n",
    "while not check_win():\n",
    "    display_board(board)\n",
    "    computer_move(computer)\n",
    "    human_move(human)"
   ]
  }
 ],
 "metadata": {
  "kernelspec": {
   "display_name": "Python 3 (ipykernel)",
   "language": "python",
   "name": "python3"
  },
  "language_info": {
   "codemirror_mode": {
    "name": "ipython",
    "version": 3
   },
   "file_extension": ".py",
   "mimetype": "text/x-python",
   "name": "python",
   "nbconvert_exporter": "python",
   "pygments_lexer": "ipython3",
   "version": "3.12.4"
  }
 },
 "nbformat": 4,
 "nbformat_minor": 5
}
