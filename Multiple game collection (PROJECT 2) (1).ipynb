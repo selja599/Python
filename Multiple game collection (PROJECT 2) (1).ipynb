{
 "cells": [
  {
   "cell_type": "code",
   "execution_count": 4,
   "id": "959b5e33-1d31-4e31-bd4c-41ff4a1eaccc",
   "metadata": {},
   "outputs": [
    {
     "name": "stdout",
     "output_type": "stream",
     "text": [
      "Choose a game to play:\n",
      "1. Card Game\n",
      "2. Guess the Number\n",
      "3. Exit\n"
     ]
    },
    {
     "name": "stdin",
     "output_type": "stream",
     "text": [
      "Enter your choice:  1\n"
     ]
    },
    {
     "name": "stdout",
     "output_type": "stream",
     "text": [
      "Welcome to the Card Game!\n",
      "Guess the drawn card from the following:\n",
      "2, 3, 4, 5, 6, 7, 8, 9, 10, J, Q, K, A\n"
     ]
    },
    {
     "name": "stdin",
     "output_type": "stream",
     "text": [
      "Your guess:  4\n"
     ]
    },
    {
     "name": "stdout",
     "output_type": "stream",
     "text": [
      "Sorry, the correct card was: 6.\n",
      "Choose a game to play:\n",
      "1. Card Game\n",
      "2. Guess the Number\n",
      "3. Exit\n"
     ]
    },
    {
     "name": "stdin",
     "output_type": "stream",
     "text": [
      "Enter your choice:  2\n"
     ]
    },
    {
     "name": "stdout",
     "output_type": "stream",
     "text": [
      "Welcome to the Number Guessing Game! Guess a number between 1 and 100.\n"
     ]
    },
    {
     "name": "stdin",
     "output_type": "stream",
     "text": [
      "Your guess:  34\n"
     ]
    },
    {
     "name": "stdout",
     "output_type": "stream",
     "text": [
      "Too high! Try again.\n"
     ]
    },
    {
     "name": "stdin",
     "output_type": "stream",
     "text": [
      "Your guess:  25\n"
     ]
    },
    {
     "name": "stdout",
     "output_type": "stream",
     "text": [
      "Too low! Try again.\n"
     ]
    },
    {
     "name": "stdin",
     "output_type": "stream",
     "text": [
      "Your guess:  35\n"
     ]
    },
    {
     "name": "stdout",
     "output_type": "stream",
     "text": [
      "Too high! Try again.\n"
     ]
    },
    {
     "name": "stdin",
     "output_type": "stream",
     "text": [
      "Your guess:  27\n"
     ]
    },
    {
     "name": "stdout",
     "output_type": "stream",
     "text": [
      "Too low! Try again.\n"
     ]
    },
    {
     "name": "stdin",
     "output_type": "stream",
     "text": [
      "Your guess:  30\n"
     ]
    },
    {
     "name": "stdout",
     "output_type": "stream",
     "text": [
      "Too low! Try again.\n"
     ]
    },
    {
     "name": "stdin",
     "output_type": "stream",
     "text": [
      "Your guess:  32\n"
     ]
    },
    {
     "name": "stdout",
     "output_type": "stream",
     "text": [
      "Too low! Try again.\n"
     ]
    },
    {
     "name": "stdin",
     "output_type": "stream",
     "text": [
      "Your guess:  33\n"
     ]
    },
    {
     "name": "stdout",
     "output_type": "stream",
     "text": [
      "Congratulations! You guessed the number 33 in 7 attempts.\n",
      "Choose a game to play:\n",
      "1. Card Game\n",
      "2. Guess the Number\n",
      "3. Exit\n"
     ]
    },
    {
     "name": "stdin",
     "output_type": "stream",
     "text": [
      "Enter your choice:  3\n"
     ]
    },
    {
     "name": "stdout",
     "output_type": "stream",
     "text": [
      "Thanks for playing!\n"
     ]
    }
   ],
   "source": [
    "import random\n",
    "\n",
    "class GameCollection:\n",
    "    def __init__(self):\n",
    "        self.number_to_guess = None\n",
    "        self.guess_count = 0\n",
    "\n",
    "    def play_card_game(self):\n",
    "        \"\"\"A simple card guessing game.\"\"\"\n",
    "        card_values = ['2', '3', '4', '5', '6', '7', '8', '9', '10', 'J', 'Q', 'K', 'A']\n",
    "        drawn_card = random.choice(card_values)\n",
    "        \n",
    "        print(\"Welcome to the Card Game!\")\n",
    "        print(\"Guess the drawn card from the following:\")\n",
    "        print(', '.join(card_values))\n",
    "        \n",
    "        guess = input('Your guess: ').strip().upper()\n",
    "        if guess == drawn_card:\n",
    "            print(f'Congratulations! You guessed the correct card: {drawn_card}.')\n",
    "        else:\n",
    "            print(f'Sorry, the correct card was: {drawn_card}.')\n",
    "\n",
    "    def play_guess_number(self):\n",
    "        \"\"\"A simple number guessing game.\"\"\"\n",
    "        self.number_to_guess = random.randint(1, 100)\n",
    "        self.guess_count = 0\n",
    "        print(\"Welcome to the Number Guessing Game! Guess a number between 1 and 100.\")\n",
    "        \n",
    "        while True:\n",
    "            guess = int(input('Your guess: '))\n",
    "            self.guess_count += 1\n",
    "            \n",
    "            if guess < self.number_to_guess:\n",
    "                print('Too low! Try again.')\n",
    "            elif guess > self.number_to_guess:\n",
    "                print('Too high! Try again.')\n",
    "            else:\n",
    "                print(f'Congratulations! You guessed the number {self.number_to_guess} in {self.guess_count} attempts.')\n",
    "                break\n",
    "\n",
    "    def start_game(self):\n",
    "        \"\"\"Provides a menu for selecting a game.\"\"\"\n",
    "        while True:\n",
    "            print('Choose a game to play:')\n",
    "            print('1. Card Game')\n",
    "            print('2. Guess the Number')\n",
    "            print('3. Exit')\n",
    "            choice = input('Enter your choice: ')\n",
    "\n",
    "            if choice == '1':\n",
    "                self.play_card_game()\n",
    "            elif choice == '2':\n",
    "                self.play_guess_number()\n",
    "            elif choice == '3':\n",
    "                print('Thanks for playing!')\n",
    "                break\n",
    "            else:\n",
    "                print('Invalid choice. Please try again.')\n",
    "\n",
    "if __name__ == \"__main__\":\n",
    "    game_collection = GameCollection()\n",
    "    game_collection.start_game()\n"
   ]
  }
 ],
 "metadata": {
  "kernelspec": {
   "display_name": "Python 3 (ipykernel)",
   "language": "python",
   "name": "python3"
  },
  "language_info": {
   "codemirror_mode": {
    "name": "ipython",
    "version": 3
   },
   "file_extension": ".py",
   "mimetype": "text/x-python",
   "name": "python",
   "nbconvert_exporter": "python",
   "pygments_lexer": "ipython3",
   "version": "3.12.4"
  }
 },
 "nbformat": 4,
 "nbformat_minor": 5
}
